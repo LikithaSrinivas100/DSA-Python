{
 "cells": [
  {
   "cell_type": "code",
   "execution_count": 5,
   "id": "e15f995b-1958-4637-905f-aa689778d5a6",
   "metadata": {},
   "outputs": [],
   "source": [
    "# Array special method"
   ]
  },
  {
   "cell_type": "code",
   "execution_count": 13,
   "id": "07e71e33-6294-464d-bb77-446082bfd0c4",
   "metadata": {},
   "outputs": [
    {
     "name": "stdin",
     "output_type": "stream",
     "text": [
      "Size of the array :  5\n",
      "elements of array :  1\n",
      "elements of array :  2\n",
      "elements of array :  3\n",
      "elements of array :  4\n",
      "elements of array :  5\n"
     ]
    },
    {
     "name": "stdout",
     "output_type": "stream",
     "text": [
      "[1, 2, 3, 4, 5]\n",
      "Product Array :  [120, 60, 40, 30, 24]\n"
     ]
    }
   ],
   "source": [
    "# problem 01 : without division\n",
    "size = int(input(\"Size of the array : \"))\n",
    "array = []\n",
    "for i in range(1, size+1):\n",
    "    array.append(int(input(\"elements of array : \")))\n",
    "    \n",
    "prod_arr = [1]*size\n",
    "print(array)\n",
    "\n",
    "for i in range(size):\n",
    "    product = 1\n",
    "    for j in range(size):\n",
    "        if i != j:\n",
    "            product *= array[j]\n",
    "    prod_arr[i] = product\n",
    "\n",
    "print(\"Product Array : \", prod_arr)"
   ]
  },
  {
   "cell_type": "code",
   "execution_count": 9,
   "id": "b4ea36b0-0325-4a42-954b-6b0d308296e0",
   "metadata": {},
   "outputs": [
    {
     "name": "stdin",
     "output_type": "stream",
     "text": [
      "Size of the array :  5\n",
      "elements of array :  1\n",
      "elements of array :  2\n",
      "elements of array :  3\n",
      "elements of array :  4\n",
      "elements of array :  5\n"
     ]
    },
    {
     "name": "stdout",
     "output_type": "stream",
     "text": [
      "[1, 2, 3, 4, 5]\n",
      "Resulting array: [120, 60, 40, 30, 24]\n"
     ]
    }
   ],
   "source": [
    "# problem 02 : with divisionvgjj\n",
    "size = int(input(\"Size of the array : \"))\n",
    "array = []\n",
    "for i in range(1, size+1):\n",
    "    array.append(int(input(\"elements of array : \")))\n",
    "    \n",
    "prod_arr = [1]*size\n",
    "print(array)\n",
    "\n",
    "total_product = 1\n",
    "for i in array:\n",
    "    total_product *= i\n",
    "\n",
    "prod_arr = [total_product // i for i in array] # dividing the total product by each element\n",
    "print(\"Resulting array:\", prod_arr)"
   ]
  },
  {
   "cell_type": "code",
   "execution_count": 1,
   "id": "d613dd3c-7ad5-4001-a1fa-79a7f4c81d1d",
   "metadata": {},
   "outputs": [
    {
     "name": "stdin",
     "output_type": "stream",
     "text": [
      "Enter N value: 5\n",
      "Enter D value: 1\n"
     ]
    },
    {
     "name": "stdout",
     "output_type": "stream",
     "text": [
      "0\n"
     ]
    }
   ],
   "source": [
    "# ALl number with specific Difference\n",
    "low = 1\n",
    "n = int (input(\"Enter N value:\"))\n",
    "d = int (input(\"Enter D value:\"))\n",
    "high = n\n",
    "while low<=high:\n",
    "  mid=(low+high)//2\n",
    "  sum_d=sum(int(i)for i in str(mid))\n",
    "  if (mid-sum_d)<=2:\n",
    "    low=mid+1\n",
    "  else:\n",
    "    high=mid-1\n",
    "print(n-high)"
   ]
  },
  {
   "cell_type": "code",
   "execution_count": null,
   "id": "35454afc-1d90-4dc9-8a30-12b504505a82",
   "metadata": {},
   "outputs": [],
   "source": []
  }
 ],
 "metadata": {
  "kernelspec": {
   "display_name": "Python 3 (ipykernel)",
   "language": "python",
   "name": "python3"
  },
  "language_info": {
   "codemirror_mode": {
    "name": "ipython",
    "version": 3
   },
   "file_extension": ".py",
   "mimetype": "text/x-python",
   "name": "python",
   "nbconvert_exporter": "python",
   "pygments_lexer": "ipython3",
   "version": "3.12.4"
  }
 },
 "nbformat": 4,
 "nbformat_minor": 5
}
