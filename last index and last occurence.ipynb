{
 "cells": [
  {
   "cell_type": "code",
   "execution_count": 1,
   "id": "590ec998-2cb7-47aa-a5a9-69f9954b1939",
   "metadata": {},
   "outputs": [
    {
     "name": "stdout",
     "output_type": "stream",
     "text": [
      "10\n"
     ]
    }
   ],
   "source": [
    "# Last index of One\n",
    "arr = [1, 0, 0, 1, 1, 1, 0, 1, 0, 1, 1]\n",
    "index = -1\n",
    "n = len(arr)\n",
    "for i in range(n):\n",
    "    if arr[i] == 1:\n",
    "        index = i\n",
    "print(index)"
   ]
  },
  {
   "cell_type": "code",
   "execution_count": 5,
   "id": "4cc0a915-b3b3-43ef-b143-4955f0b33ea2",
   "metadata": {},
   "outputs": [
    {
     "name": "stdout",
     "output_type": "stream",
     "text": [
      "Last index of one :  6\n"
     ]
    }
   ],
   "source": [
    "# last occurence of one\n",
    "import numpy as np\n",
    "arr = np.array([0, 1, 1, 0, 1, 0, 1, 0, 0])\n",
    "def last1_occur(arr):\n",
    "    index = -1\n",
    "    n = len(arr)\n",
    "    for i in range(n):\n",
    "        if arr[i] == 1:\n",
    "            index = i\n",
    "    return index\n",
    "print(\"Last index of 1 : \", last1_occur(arr)) "
   ]
  },
  {
   "cell_type": "code",
   "execution_count": null,
   "id": "653aa96f-0933-45ff-b204-3eabc1357242",
   "metadata": {},
   "outputs": [],
   "source": []
  }
 ],
 "metadata": {
  "kernelspec": {
   "display_name": "Python 3 (ipykernel)",
   "language": "python",
   "name": "python3"
  },
  "language_info": {
   "codemirror_mode": {
    "name": "ipython",
    "version": 3
   },
   "file_extension": ".py",
   "mimetype": "text/x-python",
   "name": "python",
   "nbconvert_exporter": "python",
   "pygments_lexer": "ipython3",
   "version": "3.12.4"
  }
 },
 "nbformat": 4,
 "nbformat_minor": 5
}
