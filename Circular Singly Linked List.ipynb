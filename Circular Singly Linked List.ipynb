{
 "cells": [
  {
   "cell_type": "code",
   "execution_count": 3,
   "id": "e6b0156d-0aea-4daf-bf0b-92328c60853c",
   "metadata": {},
   "outputs": [
    {
     "name": "stdin",
     "output_type": "stream",
     "text": [
      "Enter data for first node:  10\n",
      "Do you want to add another node? (yes/no):  yes\n",
      "Enter data for new node:  20\n",
      "Do you want to add another node? (yes/no):  yes\n",
      "Enter data for new node:  30\n",
      "Do you want to add another node? (yes/no):  yes\n",
      "Enter data for new node:  40\n",
      "Do you want to add another node? (yes/no):  no\n"
     ]
    },
    {
     "name": "stdout",
     "output_type": "stream",
     "text": [
      "10 -> 20 -> 30 -> 40 -> (back to head)\n"
     ]
    }
   ],
   "source": [
    "# Create a node\n",
    "class Node:\n",
    "    def __init__(self, data):\n",
    "        self.data = data\n",
    "        self.next = None\n",
    "\n",
    "#Update the Head field with this node to make it the first node\n",
    "class CircularSinglyLinkedList:\n",
    "    def __init__(self):\n",
    "        self.head = None         # EMPTY\n",
    "\n",
    "    # Assign the reference of the node to a variable to make it the current node\n",
    "    def create_list(self):\n",
    "        if self.head is None:\n",
    "            data = int(input(\"Enter data for first node: \"))\n",
    "            new_node = Node(data)\n",
    "            self.head = new_node\n",
    "            new_node.next = self.head  # Making it circular\n",
    "            current = new_node\n",
    "        \n",
    "        # Take input for the data part and store it\n",
    "        while True:\n",
    "            # Take input for the option whether another node will be created or not\n",
    "            choice = input(\"Do you want to add another node? (yes/no): \").lower()\n",
    "            if choice != 'yes':\n",
    "                break\n",
    "            data = int(input(\"Enter data for new node: \"))\n",
    "            new_node = Node(data)\n",
    "            current.next = new_node\n",
    "            new_node.next = self.head  # Keeping it circular\n",
    "            current = new_node\n",
    "\n",
    "    def display_list(self):\n",
    "        if self.head is None:\n",
    "            print(\"The list is empty.\")\n",
    "            return\n",
    "        current = self.head\n",
    "        while True:\n",
    "            print(current.data, end=\" -> \")\n",
    "            current = current.next\n",
    "            if current == self.head:\n",
    "                break\n",
    "        print(\"(back to head)\")\n",
    "\n",
    "\n",
    "circular_list = CircularSinglyLinkedList()\n",
    "circular_list.create_list()\n",
    "circular_list.display_list()"
   ]
  },
  {
   "cell_type": "code",
   "execution_count": null,
   "id": "5b1ec8d8-1325-41df-aa65-45a0b2f9c1d0",
   "metadata": {},
   "outputs": [],
   "source": []
  }
 ],
 "metadata": {
  "kernelspec": {
   "display_name": "Python 3 (ipykernel)",
   "language": "python",
   "name": "python3"
  },
  "language_info": {
   "codemirror_mode": {
    "name": "ipython",
    "version": 3
   },
   "file_extension": ".py",
   "mimetype": "text/x-python",
   "name": "python",
   "nbconvert_exporter": "python",
   "pygments_lexer": "ipython3",
   "version": "3.12.4"
  }
 },
 "nbformat": 4,
 "nbformat_minor": 5
}
