{
 "cells": [
  {
   "cell_type": "code",
   "execution_count": 3,
   "id": "9f95e1a9-72f8-40bd-85a2-53b60ad0f25f",
   "metadata": {},
   "outputs": [
    {
     "name": "stdout",
     "output_type": "stream",
     "text": [
      "max is :  50\n",
      "min is :  10\n"
     ]
    }
   ],
   "source": [
    "arr = [10, 20, 30, 40, 50]\n",
    "max = max(arr)\n",
    "print(\"max is : \", max)\n",
    "min = min(arr)\n",
    "print(\"min is : \", min)"
   ]
  },
  {
   "cell_type": "code",
   "execution_count": 5,
   "id": "d8cef6d5-9340-4ba0-b2e8-05a085b2ac8d",
   "metadata": {},
   "outputs": [
    {
     "name": "stdout",
     "output_type": "stream",
     "text": [
      "sum is :  150\n"
     ]
    }
   ],
   "source": [
    "sum = sum(arr)\n",
    "print(\"sum is : \", sum)"
   ]
  },
  {
   "cell_type": "code",
   "execution_count": 9,
   "id": "357f2e5b-7a19-48a7-b7bf-f53dd7f34ee5",
   "metadata": {},
   "outputs": [
    {
     "name": "stdout",
     "output_type": "stream",
     "text": [
      "Average is :  30.0\n"
     ]
    }
   ],
   "source": [
    "avr = sum/len(arr)\n",
    "print(\"Average is : \", avr)"
   ]
  },
  {
   "cell_type": "code",
   "execution_count": 11,
   "id": "5835bbe7-9790-40e7-9088-d01e913f2007",
   "metadata": {},
   "outputs": [
    {
     "name": "stdout",
     "output_type": "stream",
     "text": [
      "[50, 40, 30, 20, 10]\n"
     ]
    }
   ],
   "source": [
    "reverse_arr = arr[::-1]\n",
    "print(reverse_arr)"
   ]
  },
  {
   "cell_type": "code",
   "execution_count": 13,
   "id": "3e169264-3a95-4db8-b7ac-c20da62a3001",
   "metadata": {},
   "outputs": [],
   "source": [
    "arr1 = [1, 3, 1, 5, 6, 8, 1]"
   ]
  },
  {
   "cell_type": "code",
   "execution_count": 15,
   "id": "508279dc-04d8-482e-a709-dd3b48eb4798",
   "metadata": {},
   "outputs": [],
   "source": [
    "import array as arr"
   ]
  },
  {
   "cell_type": "code",
   "execution_count": 17,
   "id": "7cd93a5b-a5f1-4a41-a394-6950edce8c95",
   "metadata": {},
   "outputs": [
    {
     "data": {
      "text/plain": [
       "array.array"
      ]
     },
     "execution_count": 17,
     "metadata": {},
     "output_type": "execute_result"
    }
   ],
   "source": [
    "x = arr.array('i',[1,5,3,7,3,2])\n",
    "type(x)"
   ]
  },
  {
   "cell_type": "code",
   "execution_count": 19,
   "id": "c170ef13-2196-45ec-922e-f59e2a84fa60",
   "metadata": {},
   "outputs": [
    {
     "name": "stdout",
     "output_type": "stream",
     "text": [
      "array('i', [2, 3, 7, 3, 5, 1])\n"
     ]
    }
   ],
   "source": [
    "print(x[::-1])"
   ]
  },
  {
   "cell_type": "code",
   "execution_count": 21,
   "id": "fde51441-5034-4b76-85da-2338e95a7800",
   "metadata": {},
   "outputs": [
    {
     "name": "stdout",
     "output_type": "stream",
     "text": [
      "6\n"
     ]
    }
   ],
   "source": [
    "n = len(x)\n",
    "print(n)"
   ]
  },
  {
   "cell_type": "code",
   "execution_count": 23,
   "id": "3d029e44-9073-4a88-b02c-fc55d5c98873",
   "metadata": {},
   "outputs": [
    {
     "name": "stdout",
     "output_type": "stream",
     "text": [
      "5\n",
      "4\n",
      "3\n",
      "2\n",
      "1\n",
      "0\n"
     ]
    }
   ],
   "source": [
    "for i in range(n-1, -1, -1):\n",
    "    print(i)"
   ]
  },
  {
   "cell_type": "code",
   "execution_count": 31,
   "id": "3d4d4816-57f2-4faf-bb61-57c71f7de21c",
   "metadata": {},
   "outputs": [
    {
     "name": "stdout",
     "output_type": "stream",
     "text": [
      "array('i', [1, 5, 300, 300, 3, 7, 3, 2])\n"
     ]
    }
   ],
   "source": [
    "x.insert(2, 300)\n",
    "print(x)"
   ]
  },
  {
   "cell_type": "code",
   "execution_count": 29,
   "id": "1d440ffd-392b-4c20-b53a-a46036bf2d35",
   "metadata": {},
   "outputs": [
    {
     "data": {
      "text/plain": [
       "array('i', [1, 5, 300, 3, 7, 3, 2])"
      ]
     },
     "execution_count": 29,
     "metadata": {},
     "output_type": "execute_result"
    }
   ],
   "source": [
    "x.remove("
   ]
  },
  {
   "cell_type": "code",
   "execution_count": 27,
   "id": "983d34ff-31e1-4732-a754-d0790cf2f74b",
   "metadata": {},
   "outputs": [],
   "source": [
    "import numpy as np"
   ]
  },
  {
   "cell_type": "code",
   "execution_count": 7,
   "id": "76d5b490-e411-40d3-8076-7985c56195b0",
   "metadata": {},
   "outputs": [
    {
     "name": "stdout",
     "output_type": "stream",
     "text": [
      "10\n",
      "20\n",
      "30\n",
      "40\n",
      "50\n"
     ]
    }
   ],
   "source": [
    "y = np.array([10, 20, 30, 40, 50])\n",
    "type(y)\n",
    "for i in y:\n",
    "    print(i)"
   ]
  },
  {
   "cell_type": "code",
   "execution_count": 9,
   "id": "5b7a3ecf-72f8-4a32-8d60-3e52f6814f22",
   "metadata": {},
   "outputs": [
    {
     "data": {
      "text/plain": [
       "10"
      ]
     },
     "execution_count": 9,
     "metadata": {},
     "output_type": "execute_result"
    }
   ],
   "source": [
    "y[0]"
   ]
  },
  {
   "cell_type": "code",
   "execution_count": 11,
   "id": "058facd8-0205-4a3a-b596-05edf2e3c724",
   "metadata": {},
   "outputs": [
    {
     "data": {
      "text/plain": [
       "array([ 10,  20, 300,  30,  40,  50])"
      ]
     },
     "execution_count": 11,
     "metadata": {},
     "output_type": "execute_result"
    }
   ],
   "source": [
    "np.insert(y, 2, 300)"
   ]
  },
  {
   "cell_type": "code",
   "execution_count": null,
   "id": "441d9302-5afb-4537-b6ba-4d22505038e4",
   "metadata": {},
   "outputs": [],
   "source": []
  }
 ],
 "metadata": {
  "kernelspec": {
   "display_name": "Python 3 (ipykernel)",
   "language": "python",
   "name": "python3"
  },
  "language_info": {
   "codemirror_mode": {
    "name": "ipython",
    "version": 3
   },
   "file_extension": ".py",
   "mimetype": "text/x-python",
   "name": "python",
   "nbconvert_exporter": "python",
   "pygments_lexer": "ipython3",
   "version": "3.12.4"
  }
 },
 "nbformat": 4,
 "nbformat_minor": 5
}
