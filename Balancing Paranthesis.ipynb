{
 "cells": [
  {
   "cell_type": "code",
   "execution_count": 17,
   "id": "ba4988ab-a20a-4e9e-9cc2-c83c7996a425",
   "metadata": {},
   "outputs": [
    {
     "name": "stdin",
     "output_type": "stream",
     "text": [
      "Enter any expression :  ]\n"
     ]
    },
    {
     "name": "stdout",
     "output_type": "stream",
     "text": [
      "No matching opening paranthesis\n"
     ]
    }
   ],
   "source": [
    "class StackNode:\n",
    "    def __init__(self, NewData, Link):\n",
    "        self.data = NewData\n",
    "        self.next = Link\n",
    "class Stack:\n",
    "    def __init__(self):\n",
    "        self.top = None\n",
    "    def is_empty(self):\n",
    "        return self.top is None\n",
    "    def push(self, NewData):\n",
    "        self.top = StackNode(NewData, self.top)\n",
    "    def pop(self):\n",
    "        node = self.top\n",
    "        self.top = self.top.next\n",
    "        return node.data\n",
    "    def peek(self):\n",
    "        return self.top.data\n",
    "    def display(self):\n",
    "        current_node = self.top\n",
    "        while current_node is not None:\n",
    "            print(current_node.data)\n",
    "            current_node = current_node.next\n",
    "\n",
    "def check_paranthesis(expression):\n",
    "    stack = Stack()\n",
    "    for character in expression:\n",
    "        if(character == '(' or character == '{' or character == '['):\n",
    "            stack.push(character)\n",
    "        elif (character==')' or character == '}' or character == ']'):\n",
    "            if stack.is_empty():\n",
    "                print(\"No matching opening paranthesis\")\n",
    "                return\n",
    "            else:\n",
    "                if (getmatch(character) != stack.pop()):\n",
    "                    print(\"Improper nesting of paranthesis\")\n",
    "                    return\n",
    "    if not stack.is_empty():\n",
    "        print(\"No matching closing paranthesis\")\n",
    "    else:\n",
    "        print(\"Expression is well paranthesized\")\n",
    "\n",
    "def getmatch(character):\n",
    "    if character == ')':\n",
    "        return '('\n",
    "    elif character == '}':\n",
    "        return '{'\n",
    "    elif character == ']':\n",
    "        return '['\n",
    "\n",
    "expression = input(\"Enter any expression : \")\n",
    "check_paranthesis(expression)"
   ]
  },
  {
   "cell_type": "code",
   "execution_count": null,
   "id": "d37d9861-74f9-49df-be32-2fe97bd5f8a2",
   "metadata": {},
   "outputs": [],
   "source": []
  }
 ],
 "metadata": {
  "kernelspec": {
   "display_name": "Python 3 (ipykernel)",
   "language": "python",
   "name": "python3"
  },
  "language_info": {
   "codemirror_mode": {
    "name": "ipython",
    "version": 3
   },
   "file_extension": ".py",
   "mimetype": "text/x-python",
   "name": "python",
   "nbconvert_exporter": "python",
   "pygments_lexer": "ipython3",
   "version": "3.12.4"
  }
 },
 "nbformat": 4,
 "nbformat_minor": 5
}
