{
 "cells": [
  {
   "cell_type": "code",
   "execution_count": 1,
   "id": "5aca1013-a85b-4a14-90a9-da13ece00de2",
   "metadata": {},
   "outputs": [],
   "source": [
    "import numpy as np"
   ]
  },
  {
   "cell_type": "code",
   "execution_count": 17,
   "id": "77e3d87b-f47a-413d-9753-cc43d02e6155",
   "metadata": {},
   "outputs": [],
   "source": [
    "arr = np.array([[1,2,3],[4,5,6],[7,8,9]])"
   ]
  },
  {
   "cell_type": "code",
   "execution_count": 21,
   "id": "12589a1e-e650-4853-ba50-aad634386b25",
   "metadata": {},
   "outputs": [
    {
     "name": "stdout",
     "output_type": "stream",
     "text": [
      "[[1 2 3]\n",
      " [4 5 6]\n",
      " [7 8 9]]\n"
     ]
    }
   ],
   "source": [
    "print(arr)"
   ]
  },
  {
   "cell_type": "code",
   "execution_count": 23,
   "id": "f9929ebe-b031-42bb-b79e-ff7944095a9e",
   "metadata": {},
   "outputs": [],
   "source": [
    "arr = np.array([[1,2,3],[4,5,6],[7,8,9]], dtype = complex)"
   ]
  },
  {
   "cell_type": "code",
   "execution_count": 43,
   "id": "4ae31cfc-5a12-48ac-a15d-2af1c8cead92",
   "metadata": {},
   "outputs": [
    {
     "data": {
      "text/plain": [
       "array([[1.+0.j, 2.+0.j, 3.+0.j],\n",
       "       [4.+0.j, 5.+0.j, 6.+0.j],\n",
       "       [7.+0.j, 8.+0.j, 9.+0.j]])"
      ]
     },
     "execution_count": 43,
     "metadata": {},
     "output_type": "execute_result"
    }
   ],
   "source": [
    "arr"
   ]
  },
  {
   "cell_type": "code",
   "execution_count": 45,
   "id": "12d090b9-eed1-48e4-8635-d8072e540538",
   "metadata": {},
   "outputs": [
    {
     "data": {
      "text/plain": [
       "array([[0., 0., 0.],\n",
       "       [0., 0., 0.]])"
      ]
     },
     "execution_count": 45,
     "metadata": {},
     "output_type": "execute_result"
    }
   ],
   "source": [
    "zeros = np.zeros((2,3))     # default dtype - float\n",
    "zeros"
   ]
  },
  {
   "cell_type": "code",
   "execution_count": 47,
   "id": "87e6e25f-c01c-453e-bc76-3b550d291ca1",
   "metadata": {},
   "outputs": [
    {
     "data": {
      "text/plain": [
       "array([[0, 0, 0],\n",
       "       [0, 0, 0]])"
      ]
     },
     "execution_count": 47,
     "metadata": {},
     "output_type": "execute_result"
    }
   ],
   "source": [
    "zeros = np.zeros((2,3), dtype=np.int32)    # dtype - integer(int32)\n",
    "zeros"
   ]
  },
  {
   "cell_type": "code",
   "execution_count": 49,
   "id": "60670805-2270-4aef-b8cb-93af2e4b23dd",
   "metadata": {},
   "outputs": [
    {
     "data": {
      "text/plain": [
       "array([[1., 1., 1.],\n",
       "       [1., 1., 1.],\n",
       "       [1., 1., 1.]])"
      ]
     },
     "execution_count": 49,
     "metadata": {},
     "output_type": "execute_result"
    }
   ],
   "source": [
    "ones = np.ones((3,3))\n",
    "ones"
   ]
  },
  {
   "cell_type": "code",
   "execution_count": 52,
   "id": "f2ac0ab1-3b4c-4a58-8ea3-4ba010135a8a",
   "metadata": {},
   "outputs": [
    {
     "data": {
      "text/plain": [
       "array([[1, 1, 1],\n",
       "       [1, 1, 1],\n",
       "       [1, 1, 1]])"
      ]
     },
     "execution_count": 52,
     "metadata": {},
     "output_type": "execute_result"
    }
   ],
   "source": [
    "ones = np.ones((3,3), dtype = np.int32)\n",
    "ones"
   ]
  },
  {
   "cell_type": "code",
   "execution_count": 60,
   "id": "512d226c-c3c0-4625-a589-61165a38a6c8",
   "metadata": {},
   "outputs": [
    {
     "name": "stdout",
     "output_type": "stream",
     "text": [
      "1 2 3 \n",
      "4 5 6 \n",
      "7 8 9 \n"
     ]
    }
   ],
   "source": [
    "# traverse all elements\n",
    "arr = np.array([[1,2,3],[4,5,6],[7,8,9]], dtype = np.int32)\n",
    "for i in arr:         #rows\n",
    "    for j in i:      #columns\n",
    "        print(j, end = \" \")\n",
    "    print()    #print new line"
   ]
  },
  {
   "cell_type": "code",
   "execution_count": 78,
   "id": "38502163-b4c6-4a3e-8dfa-a81c2d0fecb7",
   "metadata": {},
   "outputs": [
    {
     "name": "stdout",
     "output_type": "stream",
     "text": [
      "11 22 33 \n",
      "44 55 66 \n",
      "77 88 99 \n"
     ]
    }
   ],
   "source": [
    "# addition of two matrices\n",
    "m1 = np.array([[1,2,3],[4,5,6],[7,8,9]], dtype = np.int32)\n",
    "m2 = np.array([[10,20,30],[40,50,60],[70,80,90]], dtype = np.int32)\n",
    "\n",
    "result = []\n",
    "for i in range(len(m1)):\n",
    "    row = []\n",
    "    for j in range(len(m1[0])):\n",
    "        row.append(m1[i][j]+m2[i][j])\n",
    "    result.append(row)\n",
    "#print(result)\n",
    "for i in result:\n",
    "    for j in i:\n",
    "        print(j, end = \" \")\n",
    "    print()"
   ]
  },
  {
   "cell_type": "code",
   "execution_count": 82,
   "id": "5764244f-aef0-499c-985e-8f0f4da464ae",
   "metadata": {},
   "outputs": [
    {
     "name": "stdout",
     "output_type": "stream",
     "text": [
      "Result :  [[11 22 33]\n",
      " [44 55 66]\n",
      " [77 88 99]]\n"
     ]
    }
   ],
   "source": [
    "# addition of two matrices using numpy\n",
    "m1 = np.array([[1,2,3],[4,5,6],[7,8,9]], dtype = np.int32)\n",
    "m2 = np.array([[10,20,30],[40,50,60],[70,80,90]], dtype = np.int32)\n",
    "print(\"Result : \",m1+m2)"
   ]
  },
  {
   "cell_type": "code",
   "execution_count": 84,
   "id": "097dee6f-e314-4515-93bd-1bc22f24481a",
   "metadata": {},
   "outputs": [
    {
     "name": "stdout",
     "output_type": "stream",
     "text": [
      "Result :  [[ 300  360  420]\n",
      " [ 660  810  960]\n",
      " [1020 1260 1500]]\n"
     ]
    }
   ],
   "source": [
    "# multiplication of two matrices using numpy\n",
    "m1 = np.array([[1,2,3],[4,5,6],[7,8,9]], dtype = np.int32)\n",
    "m2 = np.array([[10,20,30],[40,50,60],[70,80,90]], dtype = np.int32)\n",
    "result = np.dot(m1,m2)\n",
    "print(\"Result : \",result)"
   ]
  },
  {
   "cell_type": "code",
   "execution_count": 86,
   "id": "5951cfac-bdf7-4e1a-a62c-e60681840cb3",
   "metadata": {},
   "outputs": [
    {
     "data": {
      "text/plain": [
       "array([[1, 4, 7],\n",
       "       [2, 5, 8],\n",
       "       [3, 6, 9]])"
      ]
     },
     "execution_count": 86,
     "metadata": {},
     "output_type": "execute_result"
    }
   ],
   "source": [
    "# transpose of a matrix\n",
    "matrix = np.array([[1,2,3],[4,5,6],[7,8,9]])\n",
    "transpose = np.transpose(matrix)\n",
    "transpose"
   ]
  },
  {
   "cell_type": "code",
   "execution_count": null,
   "id": "3b0fff40-cf22-4a89-93a3-dd3579352182",
   "metadata": {},
   "outputs": [],
   "source": []
  }
 ],
 "metadata": {
  "kernelspec": {
   "display_name": "Python 3 (ipykernel)",
   "language": "python",
   "name": "python3"
  },
  "language_info": {
   "codemirror_mode": {
    "name": "ipython",
    "version": 3
   },
   "file_extension": ".py",
   "mimetype": "text/x-python",
   "name": "python",
   "nbconvert_exporter": "python",
   "pygments_lexer": "ipython3",
   "version": "3.12.4"
  }
 },
 "nbformat": 4,
 "nbformat_minor": 5
}
