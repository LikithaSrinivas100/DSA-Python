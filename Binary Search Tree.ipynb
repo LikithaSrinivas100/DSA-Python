{
 "cells": [
  {
   "cell_type": "code",
   "execution_count": null,
   "id": "c7d6f74c-eb49-4e16-bbe9-c24dea827696",
   "metadata": {},
   "outputs": [],
   "source": [
    "# Binary Search Tree\n",
    "class Stack:\n",
    "    def __init__(self):\n",
    "        self.items = []\n",
    "\n",
    "    def isempty(self):\n",
    "        return len(self.items) == 0\n",
    "\n",
    "    def push(self, item):\n",
    "        self.items.append(item)\n",
    "\n",
    "    def pop(self):\n",
    "        if not self.isempty():\n",
    "            return self.items.pop()\n",
    "        return None\n",
    "\n",
    "    def peek(self):\n",
    "        if not self.isempty():\n",
    "            return self.items[-1]\n",
    "        return None\n",
    "\n",
    "class TreeNode:\n",
    "    def __init__(self, NewData=None, left=None, right=None):\n",
    "        self.left=left\n",
    "        self.right=right\n",
    "        self.Data=NewData\n",
    "\n",
    "class BST:\n",
    "    def __init__(self):\n",
    "        self.root=None\n",
    "    def insert(self, NewData):\n",
    "        NewNode = TreeNode(NewData)\n",
    "        if self.root is None:\n",
    "            self.root = NewNode\n",
    "        else:\n",
    "            curNode=self.root\n",
    "            parentNode=None\n",
    "            while curNode is not None:\n",
    "                parentNode = curNode\n",
    "                if NewData < curnode.data:\n",
    "                    curNode = curNode.left\n",
    "                else:\n",
    "                    curNode = curNode.right\n",
    "            if NewData < parentNode.data:\n",
    "                parentNode.left = NewNode\n",
    "            else:\n",
    "                parentNode.right=NewNode\n",
    "\n",
    "    def preorder(self):\n",
    "        stack = Stack()\n",
    "        curNode = self.root\n",
    "        "
   ]
  }
 ],
 "metadata": {
  "kernelspec": {
   "display_name": "Python 3 (ipykernel)",
   "language": "python",
   "name": "python3"
  },
  "language_info": {
   "codemirror_mode": {
    "name": "ipython",
    "version": 3
   },
   "file_extension": ".py",
   "mimetype": "text/x-python",
   "name": "python",
   "nbconvert_exporter": "python",
   "pygments_lexer": "ipython3",
   "version": "3.12.4"
  }
 },
 "nbformat": 4,
 "nbformat_minor": 5
}
